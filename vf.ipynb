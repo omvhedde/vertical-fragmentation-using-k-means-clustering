{
 "cells": [
  {
   "cell_type": "code",
   "execution_count": 1,
   "metadata": {},
   "outputs": [],
   "source": [
    "import pandas as pd\n",
    "import numpy as np\n",
    "from sklearn.cluster import KMeans"
   ]
  },
  {
   "cell_type": "markdown",
   "metadata": {},
   "source": [
    "> Query performed by different User\n",
    "```\n",
    "Input: It is the list of query performed by different user placed at different sites.\n",
    "\n",
    "Following terminologies are followed:\n",
    "c: Create\n",
    "d: Delete\n",
    "r: read\n",
    "n: represents query has not accessed that attribute\n",
    "```"
   ]
  },
  {
   "cell_type": "code",
   "execution_count": 2,
   "metadata": {},
   "outputs": [
    {
     "name": "stdout",
     "output_type": "stream",
     "text": [
      "        A1 A2 A3   A4 A5 A6 A7 A8   A9 A10\n",
      "sites                                     \n",
      "1        c  n  n    n  n  n  n  c    n   n\n",
      "2        r  n  r    n  n  n  n  n    n   r\n",
      "3        n  r  n    n  n  r  n  n    n   n\n",
      "4        c  n  n    n  n  n  c  c    n   n\n",
      "5        n  n  n  r,r  r  r  r  r    n   n\n",
      "6        n  n  n    r  r  r  n  n    n   n\n",
      "7        n  n  r    n  r  r  n  r    n   r\n",
      "8        d  d  d    d  d  d  d  d  d,r   d\n",
      "9      d,r  d  d    d  d  d  d  d    d   d\n",
      "10       c  c  n    n  n  n  n  n    n   n\n"
     ]
    }
   ],
   "source": [
    "user_query_list = pd.read_csv('Book1.csv',index_col='sites')\n",
    "user_query_list=user_query_list.fillna('n')\n",
    "user_query_list=user_query_list.sort_values(by=['sites'])\n",
    "print(user_query_list)\n",
    "data=user_query_list.to_numpy()"
   ]
  },
  {
   "cell_type": "markdown",
   "metadata": {},
   "source": [
    "> Site Attribute Usage Matrix\n",
    "* SAUM(Si, Aj) = Number of user query performed on site Si to use attribute Aj"
   ]
  },
  {
   "cell_type": "code",
   "execution_count": 3,
   "metadata": {},
   "outputs": [
    {
     "data": {
      "text/plain": [
       "array([[1, 0, 0, 0, 0, 0, 0, 1, 0, 0],\n",
       "       [1, 0, 1, 0, 0, 0, 0, 0, 0, 1],\n",
       "       [0, 1, 0, 0, 0, 1, 0, 0, 0, 0],\n",
       "       [1, 0, 0, 0, 0, 0, 1, 1, 0, 0],\n",
       "       [0, 0, 0, 1, 1, 1, 1, 1, 0, 0],\n",
       "       [0, 0, 0, 1, 1, 1, 0, 0, 0, 0],\n",
       "       [0, 0, 1, 0, 1, 1, 0, 1, 0, 1],\n",
       "       [1, 1, 1, 1, 1, 1, 1, 1, 1, 1],\n",
       "       [1, 1, 1, 1, 1, 1, 1, 1, 1, 1],\n",
       "       [1, 1, 0, 0, 0, 0, 0, 0, 0, 0]])"
      ]
     },
     "execution_count": 3,
     "metadata": {},
     "output_type": "execute_result"
    }
   ],
   "source": [
    "num_of_attributes=data[0].shape[0]\n",
    "num_of_sites = data.shape[0]\n",
    "for i in range(num_of_sites):\n",
    "    for j in range(0,num_of_attributes):\n",
    "        data[i][j] = 0 if data[i][j]=='n' else 1\n",
    "saum=np.array(data,dtype=np.int32)\n",
    "saum"
   ]
  },
  {
   "cell_type": "markdown",
   "metadata": {},
   "source": [
    "> Attribute Attribute usage matrix\n",
    "```\n",
    "The attribute-attribute usage matrix indicates the affinity relationship between the attributes.\n",
    "By using the following formula attribute affinity usage matrix is calculated:\n",
    "```\n",
    "* AAUM(Ai, Aj) = $\\sum_{k = 1}^{number of site} SAUM(k,Ai)* SAUM(k,Aj)$\n"
   ]
  },
  {
   "cell_type": "code",
   "execution_count": 4,
   "metadata": {},
   "outputs": [
    {
     "data": {
      "text/plain": [
       "array([[6, 3, 3, 2, 2, 2, 3, 4, 2, 3],\n",
       "       [3, 4, 2, 2, 2, 3, 2, 2, 2, 2],\n",
       "       [3, 2, 4, 2, 3, 3, 2, 3, 2, 4],\n",
       "       [2, 2, 2, 4, 4, 4, 3, 3, 2, 2],\n",
       "       [2, 2, 3, 4, 5, 5, 3, 4, 2, 3],\n",
       "       [2, 3, 3, 4, 5, 6, 3, 4, 2, 3],\n",
       "       [3, 2, 2, 3, 3, 3, 4, 4, 2, 2],\n",
       "       [4, 2, 3, 3, 4, 4, 4, 6, 2, 3],\n",
       "       [2, 2, 2, 2, 2, 2, 2, 2, 2, 2],\n",
       "       [3, 2, 4, 2, 3, 3, 2, 3, 2, 4]])"
      ]
     },
     "execution_count": 4,
     "metadata": {},
     "output_type": "execute_result"
    }
   ],
   "source": [
    "aaum = np.dot(saum.T,saum)\n",
    "aaum"
   ]
  },
  {
   "cell_type": "markdown",
   "metadata": {},
   "source": [
    "> Finding the preferrable fragment for each attribute by using K-Means clustering\n",
    "```\n",
    "The clustering algorithm is proceeded on the basis of Euclidean Distance similarity between the attributes based on the value of attribute - attribute similarity matrix. Euclidean Distance formula is given as:\n",
    "```\n",
    "d(p,q) = d(q,p) = $\\sqrt{sum_{i = 1}^{n}(qi-pi)^2}$\n",
    "\n",
    "According the minimum distance of attribute from the centroids we are assiging it to the fragment which is nearer to it\n"
   ]
  },
  {
   "cell_type": "code",
   "execution_count": 5,
   "metadata": {},
   "outputs": [
    {
     "data": {
      "text/plain": [
       "array([[3.08544972, 5.08723894, 1.        ],\n",
       "       [2.2627417 , 4.5033321 , 1.        ],\n",
       "       [1.76635217, 3.67151195, 1.        ],\n",
       "       [3.67695526, 1.75499288, 2.        ],\n",
       "       [4.57383865, 1.44222051, 2.        ],\n",
       "       [5.14975728, 2.2090722 , 2.        ],\n",
       "       [2.95296461, 2.25388553, 2.        ],\n",
       "       [4.44072066, 2.54558441, 2.        ],\n",
       "       [2.34946802, 4.59129611, 1.        ],\n",
       "       [1.76635217, 3.67151195, 1.        ]])"
      ]
     },
     "execution_count": 5,
     "metadata": {},
     "output_type": "execute_result"
    }
   ],
   "source": [
    "from sklearn.cluster import KMeans\n",
    "kmeans = KMeans(n_clusters=2)\n",
    "distances = kmeans.fit_transform(aaum)\n",
    "attr_fragment = np.zeros(len(distances),dtype=np.int32)\n",
    "for i in range(len(distances)):\n",
    "    attr_fragment[i] = np.argmin(distances[i])+1\n",
    "distance_frag = np.column_stack((distances,attr_fragment))\n",
    "distance_frag"
   ]
  },
  {
   "cell_type": "markdown",
   "metadata": {},
   "source": [
    "> Allocation table\n",
    "```\n",
    "The values in column represent the access value of the fragment by specified sites in particular row. \n",
    "The row with highest value means the site is accessing that fragment attributes frequently and the \n",
    "fragment need to be placed at that site.\n",
    "```"
   ]
  },
  {
   "cell_type": "code",
   "execution_count": 8,
   "metadata": {},
   "outputs": [
    {
     "data": {
      "text/html": [
       "<div>\n",
       "<style scoped>\n",
       "    .dataframe tbody tr th:only-of-type {\n",
       "        vertical-align: middle;\n",
       "    }\n",
       "\n",
       "    .dataframe tbody tr th {\n",
       "        vertical-align: top;\n",
       "    }\n",
       "\n",
       "    .dataframe thead th {\n",
       "        text-align: right;\n",
       "    }\n",
       "</style>\n",
       "<table border=\"1\" class=\"dataframe\">\n",
       "  <thead>\n",
       "    <tr style=\"text-align: right;\">\n",
       "      <th></th>\n",
       "      <th>AttrFromFragmentOne</th>\n",
       "      <th>AttrFromFragmentTwo</th>\n",
       "    </tr>\n",
       "    <tr>\n",
       "      <th>sites</th>\n",
       "      <th></th>\n",
       "      <th></th>\n",
       "    </tr>\n",
       "  </thead>\n",
       "  <tbody>\n",
       "    <tr>\n",
       "      <th>1</th>\n",
       "      <td>1</td>\n",
       "      <td>1</td>\n",
       "    </tr>\n",
       "    <tr>\n",
       "      <th>2</th>\n",
       "      <td>3</td>\n",
       "      <td>0</td>\n",
       "    </tr>\n",
       "    <tr>\n",
       "      <th>3</th>\n",
       "      <td>1</td>\n",
       "      <td>1</td>\n",
       "    </tr>\n",
       "    <tr>\n",
       "      <th>4</th>\n",
       "      <td>1</td>\n",
       "      <td>2</td>\n",
       "    </tr>\n",
       "    <tr>\n",
       "      <th>5</th>\n",
       "      <td>0</td>\n",
       "      <td>5</td>\n",
       "    </tr>\n",
       "    <tr>\n",
       "      <th>6</th>\n",
       "      <td>0</td>\n",
       "      <td>3</td>\n",
       "    </tr>\n",
       "    <tr>\n",
       "      <th>7</th>\n",
       "      <td>2</td>\n",
       "      <td>3</td>\n",
       "    </tr>\n",
       "    <tr>\n",
       "      <th>8</th>\n",
       "      <td>5</td>\n",
       "      <td>5</td>\n",
       "    </tr>\n",
       "    <tr>\n",
       "      <th>9</th>\n",
       "      <td>5</td>\n",
       "      <td>5</td>\n",
       "    </tr>\n",
       "    <tr>\n",
       "      <th>10</th>\n",
       "      <td>2</td>\n",
       "      <td>0</td>\n",
       "    </tr>\n",
       "  </tbody>\n",
       "</table>\n",
       "</div>"
      ],
      "text/plain": [
       "       AttrFromFragmentOne  AttrFromFragmentTwo\n",
       "sites                                          \n",
       "1                        1                    1\n",
       "2                        3                    0\n",
       "3                        1                    1\n",
       "4                        1                    2\n",
       "5                        0                    5\n",
       "6                        0                    3\n",
       "7                        2                    3\n",
       "8                        5                    5\n",
       "9                        5                    5\n",
       "10                       2                    0"
      ]
     },
     "execution_count": 8,
     "metadata": {},
     "output_type": "execute_result"
    }
   ],
   "source": [
    "fragment_allocation=np.zeros((saum.shape[0],2),dtype=np.int32)\n",
    "for i in range(len(saum)):\n",
    "    total_access = 0\n",
    "    for j in range(len(saum[0])):\n",
    "        if saum[i][j] == 1 and distance_frag[j][2]==1:\n",
    "            total_access += saum[i][j]\n",
    "    fragment_allocation[i][0]=total_access\n",
    "fragment_allocation\n",
    "\n",
    "for i in range(len(saum)):\n",
    "    total_access = 0\n",
    "    for j in range(len(saum[0])):\n",
    "        if saum[i][j] == 1 and distance_frag[j][2]==2:\n",
    "            total_access += saum[i][j]\n",
    "    fragment_allocation[i][1]=total_access\n",
    "frag_all = pd.DataFrame((fragment_allocation))\n",
    "frag_all.columns=['AttrFromFragmentOne','AttrFromFragmentTwo']\n",
    "frag_all.index=user_query_list.index\n",
    "frag_all"
   ]
  },
  {
   "cell_type": "markdown",
   "metadata": {},
   "source": [
    "> Finding the elbow point for Fragmentation\n",
    "```\n",
    "The elbow point is used to know the best number of clusters\n",
    "Inertia measures how well the dataset is clustered\n",
    "```"
   ]
  },
  {
   "cell_type": "code",
   "execution_count": 9,
   "metadata": {},
   "outputs": [
    {
     "data": {
      "text/plain": [
       "Text(0, 0.5, 'Inertia')"
      ]
     },
     "execution_count": 9,
     "metadata": {},
     "output_type": "execute_result"
    },
    {
     "data": {
      "image/png": "[encoded data removed]",
      "text/plain": [
       "<Figure size 864x432 with 1 Axes>"
      ]
     },
     "metadata": {
      "needs_background": "light"
     },
     "output_type": "display_data"
    }
   ],
   "source": [
    "import matplotlib.pyplot as plt\n",
    "SSE = []\n",
    "for cluster in range(1,10):\n",
    "    kmeans = KMeans(n_clusters = cluster, init='k-means++')\n",
    "    kmeans.fit(aaum)\n",
    "    SSE.append(kmeans.inertia_) \n",
    "\n",
    "# converting the results into a dataframe and plotting them\n",
    "frame = pd.DataFrame({'Cluster':range(1,10), 'SSE':SSE})\n",
    "plt.figure(figsize=(12,6))\n",
    "plt.plot(frame['Cluster'], frame['SSE'], marker='o')\n",
    "plt.xlabel('Number of clusters')\n",
    "plt.ylabel('Inertia')"
   ]
  },
  {
   "cell_type": "code",
   "execution_count": 10,
   "metadata": {},
   "outputs": [
    {
     "name": "stdout",
     "output_type": "stream",
     "text": [
      "[[0.7339564  0.2660436 ]\n",
      " [0.78417354 0.21582646]\n",
      " [0.80735254 0.19264746]\n",
      " [0.20636052 0.79363948]\n",
      " [0.07041745 0.92958255]\n",
      " [0.13597409 0.86402591]\n",
      " [0.48366622 0.51633378]\n",
      " [0.31351642 0.68648358]\n",
      " [0.79140038 0.20859962]\n",
      " [0.80735254 0.19264746]]\n"
     ]
    }
   ],
   "source": [
    "from skfuzzy.cluster import cmeans\n",
    "ans= cmeans(aaum,c=2,m=2,maxiter=300,error=0)\n",
    "print(np.array(ans[1].T))\n"
   ]
  },
  {
   "cell_type": "code",
   "execution_count": 11,
   "metadata": {},
   "outputs": [
    {
     "data": {
      "text/plain": [
       "array([[0.7339564 , 0.2660436 , 1.        ],\n",
       "       [0.78417354, 0.21582646, 1.        ],\n",
       "       [0.80735254, 0.19264746, 1.        ],\n",
       "       [0.20636052, 0.79363948, 2.        ],\n",
       "       [0.07041745, 0.92958255, 2.        ],\n",
       "       [0.13597409, 0.86402591, 2.        ],\n",
       "       [0.48366622, 0.51633378, 2.        ],\n",
       "       [0.31351642, 0.68648358, 2.        ],\n",
       "       [0.79140038, 0.20859962, 1.        ],\n",
       "       [0.80735254, 0.19264746, 1.        ]])"
      ]
     },
     "execution_count": 11,
     "metadata": {},
     "output_type": "execute_result"
    }
   ],
   "source": [
    "distances_fcmeans = np.array(ans[1]).T\n",
    "attr_fragment_cmeans = np.zeros(len(distances_fcmeans),dtype=np.int32)\n",
    "for i in range(len(distances_fcmeans)):\n",
    "    attr_fragment_cmeans[i] = np.argmax(distances_fcmeans[i])+1\n",
    "distance_frag_cmeans = np.column_stack((distances_fcmeans,attr_fragment_cmeans))\n",
    "distance_frag_cmeans\n"
   ]
  },
  {
   "cell_type": "code",
   "execution_count": 13,
   "metadata": {},
   "outputs": [
    {
     "data": {
      "text/html": [
       "<div>\n",
       "<style scoped>\n",
       "    .dataframe tbody tr th:only-of-type {\n",
       "        vertical-align: middle;\n",
       "    }\n",
       "\n",
       "    .dataframe tbody tr th {\n",
       "        vertical-align: top;\n",
       "    }\n",
       "\n",
       "    .dataframe thead th {\n",
       "        text-align: right;\n",
       "    }\n",
       "</style>\n",
       "<table border=\"1\" class=\"dataframe\">\n",
       "  <thead>\n",
       "    <tr style=\"text-align: right;\">\n",
       "      <th></th>\n",
       "      <th>AttrFromFragmentOne</th>\n",
       "      <th>AttrFromFragmentTwo</th>\n",
       "    </tr>\n",
       "    <tr>\n",
       "      <th>sites</th>\n",
       "      <th></th>\n",
       "      <th></th>\n",
       "    </tr>\n",
       "  </thead>\n",
       "  <tbody>\n",
       "    <tr>\n",
       "      <th>1</th>\n",
       "      <td>1</td>\n",
       "      <td>1</td>\n",
       "    </tr>\n",
       "    <tr>\n",
       "      <th>2</th>\n",
       "      <td>3</td>\n",
       "      <td>0</td>\n",
       "    </tr>\n",
       "    <tr>\n",
       "      <th>3</th>\n",
       "      <td>1</td>\n",
       "      <td>1</td>\n",
       "    </tr>\n",
       "    <tr>\n",
       "      <th>4</th>\n",
       "      <td>1</td>\n",
       "      <td>2</td>\n",
       "    </tr>\n",
       "    <tr>\n",
       "      <th>5</th>\n",
       "      <td>0</td>\n",
       "      <td>5</td>\n",
       "    </tr>\n",
       "    <tr>\n",
       "      <th>6</th>\n",
       "      <td>0</td>\n",
       "      <td>3</td>\n",
       "    </tr>\n",
       "    <tr>\n",
       "      <th>7</th>\n",
       "      <td>2</td>\n",
       "      <td>3</td>\n",
       "    </tr>\n",
       "    <tr>\n",
       "      <th>8</th>\n",
       "      <td>5</td>\n",
       "      <td>5</td>\n",
       "    </tr>\n",
       "    <tr>\n",
       "      <th>9</th>\n",
       "      <td>5</td>\n",
       "      <td>5</td>\n",
       "    </tr>\n",
       "    <tr>\n",
       "      <th>10</th>\n",
       "      <td>2</td>\n",
       "      <td>0</td>\n",
       "    </tr>\n",
       "  </tbody>\n",
       "</table>\n",
       "</div>"
      ],
      "text/plain": [
       "       AttrFromFragmentOne  AttrFromFragmentTwo\n",
       "sites                                          \n",
       "1                        1                    1\n",
       "2                        3                    0\n",
       "3                        1                    1\n",
       "4                        1                    2\n",
       "5                        0                    5\n",
       "6                        0                    3\n",
       "7                        2                    3\n",
       "8                        5                    5\n",
       "9                        5                    5\n",
       "10                       2                    0"
      ]
     },
     "execution_count": 13,
     "metadata": {},
     "output_type": "execute_result"
    }
   ],
   "source": [
    "fragment_allocation_cmeans=np.zeros((saum.shape[0],2),dtype=np.int32)\n",
    "for i in range(len(saum)):\n",
    "    total_access = 0\n",
    "    for j in range(len(saum[0])):\n",
    "        if saum[i][j] == 1 and distance_frag_cmeans[j][2]==1:\n",
    "            total_access += saum[i][j]\n",
    "    fragment_allocation_cmeans[i][0]=total_access\n",
    "fragment_allocation_cmeans\n",
    "\n",
    "for i in range(len(saum)):\n",
    "    total_access = 0\n",
    "    for j in range(len(saum[0])):\n",
    "        if saum[i][j] == 1 and distance_frag_cmeans[j][2]==2:\n",
    "            total_access += saum[i][j]\n",
    "    fragment_allocation_cmeans[i][1]=total_access\n",
    "fragment_allocation_cmeans = pd.DataFrame((fragment_allocation_cmeans))\n",
    "fragment_allocation_cmeans.columns=['AttrFromFragmentOne','AttrFromFragmentTwo']\n",
    "fragment_allocation_cmeans.index=user_query_list.index\n",
    "fragment_allocation_cmeans"
   ]
  }
 ],
 "metadata": {
  "interpreter": {
   "hash": "1bb0b362f26668dab5e215d6d9db07ac82d94579e03c1f0d614a94e491cb2a73"
  },
  "kernelspec": {
   "display_name": "Python 3.9.7 64-bit",
   "language": "python",
   "name": "python3"
  },
  "language_info": {
   "codemirror_mode": {
    "name": "ipython",
    "version": 3
   },
   "file_extension": ".py",
   "mimetype": "text/x-python",
   "name": "python",
   "nbconvert_exporter": "python",
   "pygments_lexer": "ipython3",
   "version": "3.9.9"
  },
  "orig_nbformat": 4
 },
 "nbformat": 4,
 "nbformat_minor": 2
}
